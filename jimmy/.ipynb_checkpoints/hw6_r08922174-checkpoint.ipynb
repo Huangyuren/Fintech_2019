{
 "cells": [
  {
   "cell_type": "code",
   "execution_count": 1,
   "metadata": {
    "scrolled": true
   },
   "outputs": [],
   "source": [
    "import numpy as np\n",
    "from pycoin.ecdsa.secp256k1 import secp256k1_generator as g\n",
    "myStuId = 922174"
   ]
  },
  {
   "cell_type": "code",
   "execution_count": 2,
   "metadata": {},
   "outputs": [
    {
     "name": "stdout",
     "output_type": "stream",
     "text": [
      "x = 0xe493dbf1c10d80f3581e4904930b1404cc6c13900ee0758474fa94abe8c4cd13\n",
      "y = 0x51ed993ea0d455b75642e2098ea51448d967ae33bfbdfe40cfe97bdc47739922\n"
     ]
    }
   ],
   "source": [
    "x, y = 4*g\n",
    "print(\"x = {}\\ny = {}\".format(hex(x), hex(y)))"
   ]
  },
  {
   "cell_type": "code",
   "execution_count": 3,
   "metadata": {},
   "outputs": [
    {
     "name": "stdout",
     "output_type": "stream",
     "text": [
      "x = 0x2f8bde4d1a07209355b4a7250a5c5128e88b84bddc619ab7cba8d569b240efe4\n",
      "y = 0xd8ac222636e5e3d6d4dba9dda6c9c426f788271bab0d6840dca87d3aa6ac62d6\n"
     ]
    }
   ],
   "source": [
    "x, y = 5*g\n",
    "print(\"x = {}\\ny = {}\".format(hex(x), hex(y)))"
   ]
  },
  {
   "cell_type": "code",
   "execution_count": 4,
   "metadata": {},
   "outputs": [
    {
     "name": "stdout",
     "output_type": "stream",
     "text": [
      "x = 0x10e2f439abcaa3e88b3b1bc5dacb7e34996960ad1a4993366e726926c12ad300\n",
      "y = 0xecdacad629ca781c202c85ea40dd4a686f910a41f637cf474fd9fd5e178083b5\n"
     ]
    }
   ],
   "source": [
    "x, y = myStuId*g\n",
    "print(\"x = {}\\ny = {}\".format(hex(x), hex(y)))"
   ]
  },
  {
   "cell_type": "code",
   "execution_count": 5,
   "metadata": {},
   "outputs": [
    {
     "name": "stdout",
     "output_type": "stream",
     "text": [
      "My student ID in binary =  0b11100001001000111110\n",
      "# of double = 19\n",
      "# of add = 9\n",
      "Detailed operations:  ['d', 'a', 'd', 'a', 'd', 'a', 'd', 'a', 'd', 'a', 'd', 'd', 'd', 'd', 'a', 'd', 'd', 'd', 'a', 'd', 'd', 'd', 'd', 'd', 'a', 'd', 'a', 'd']\n"
     ]
    },
    {
     "data": {
      "text/plain": [
       "['d',\n",
       " 'a',\n",
       " 'd',\n",
       " 'a',\n",
       " 'd',\n",
       " 'a',\n",
       " 'd',\n",
       " 'a',\n",
       " 'd',\n",
       " 'a',\n",
       " 'd',\n",
       " 'd',\n",
       " 'd',\n",
       " 'd',\n",
       " 'a',\n",
       " 'd',\n",
       " 'd',\n",
       " 'd',\n",
       " 'a',\n",
       " 'd',\n",
       " 'd',\n",
       " 'd',\n",
       " 'd',\n",
       " 'd',\n",
       " 'a',\n",
       " 'd',\n",
       " 'a',\n",
       " 'd']"
      ]
     },
     "execution_count": 5,
     "metadata": {},
     "output_type": "execute_result"
    }
   ],
   "source": [
    "def countAD(oper_lst):\n",
    "    counter_d = 0\n",
    "    counter_a = 0\n",
    "    counter_s = 0\n",
    "    for x in oper_lst:\n",
    "        if x == 'd':\n",
    "            counter_d += 1\n",
    "        elif x == 's':\n",
    "            counter_s += 1\n",
    "        else:\n",
    "            counter_a += 1\n",
    "    return counter_d, counter_a, counter_s\n",
    "def showDetails(myStuId):\n",
    "    oper_lst = []\n",
    "    id_copy = myStuId\n",
    "    while id_copy > 1:\n",
    "        bin_id = bin(id_copy)\n",
    "        if bin_id[-1] == '0':\n",
    "            oper_lst += ['d']\n",
    "            id_copy >>= 1\n",
    "        else:\n",
    "            oper_lst += ['a']\n",
    "            id_copy -= 1\n",
    "    d, a, s = countAD(oper_lst)\n",
    "    print(\"My student ID in binary = \", bin(myStuId))\n",
    "    print(\"# of double = {}\\n# of add = {}\".format(d, a))\n",
    "    print(\"Detailed operations: \", oper_lst)\n",
    "    return oper_lst\n",
    "showDetails(myStuId)"
   ]
  },
  {
   "cell_type": "code",
   "execution_count": 15,
   "metadata": {},
   "outputs": [
    {
     "name": "stdout",
     "output_type": "stream",
     "text": [
      "My student ID in binary =  0b11100001001000111110\n",
      "# of double = 19\n",
      "# of add = 9\n",
      "Detailed operations:  ['d', 'a', 'd', 'a', 'd', 'a', 'd', 'a', 'd', 'a', 'd', 'd', 'd', 'd', 'a', 'd', 'd', 'd', 'a', 'd', 'd', 'd', 'd', 'd', 'a', 'd', 'a', 'd']\n",
      "\n",
      "########## After Optimization ##########\n",
      "# of double = 19\n",
      "# of add = 5\n",
      "# of subtract = 1\n",
      "Detailed operations:  ['a', 'd', 'd', 'd', 'd', 'd', 's', 'd', 'd', 'd', 'd', 'a', 'd', 'd', 'd', 'a', 'd', 'd', 'd', 'd', 'd', 'a', 'd', 'a', 'd']\n"
     ]
    }
   ],
   "source": [
    "def speeeedup(myStuId):\n",
    "    details = showDetails(myStuId)\n",
    "    result = []\n",
    "    beg_lst = []\n",
    "    end_lst = []\n",
    "    i = 0\n",
    "    while i < len(details)-5:\n",
    "        if details[i] == 'd' and details[i+1] == 'a':\n",
    "            j = i+2\n",
    "            while j < len(details) and details[j] == 'd' and details[j+1] == 'a':\n",
    "                j += 2\n",
    "            if j-i > 4:\n",
    "                beg_lst.append(i)\n",
    "                end_lst.append(j)\n",
    "            i = j\n",
    "        else:\n",
    "            i +=1\n",
    "    k = 0\n",
    "    while k < len(details):\n",
    "        if len(beg_lst) > 0:\n",
    "            if k == beg_lst[0]:\n",
    "                result.append('a')\n",
    "                beg_tmp = beg_lst.pop(0)\n",
    "                end_tmp = end_lst.pop(0)\n",
    "                span = (end_tmp-beg_tmp)//2\n",
    "                for l in range(span):\n",
    "                    result.append('d')\n",
    "                result.append('s')\n",
    "                k = end_tmp\n",
    "            else:\n",
    "                result.append(details[k])\n",
    "                k += 1\n",
    "        else:\n",
    "            result.append(details[k])\n",
    "            k += 1\n",
    "    d, a, s = countAD(result)\n",
    "    print(\"\\n########## After Optimization ##########\")\n",
    "    print(\"# of double = {}\\n# of add = {}\\n# of subtract = {}\".format(d, a, s))\n",
    "    print(\"Detailed operations: \", result)\n",
    "speeeedup(myStuId)"
   ]
  },
  {
   "cell_type": "code",
   "execution_count": 18,
   "metadata": {},
   "outputs": [
    {
     "name": "stdout",
     "output_type": "stream",
     "text": [
      "Hashed:  0x5c77b910317158b406cbfd43f7585f553b24f5967dcb78d9edc02a58007e9218\n",
      "x = 0xc6047f9441ed7d6d3045406e95c07cd85c778e4b8cef3ca7abac09b95c709ee5\n",
      "y = 0x1ae168fea63dc339a3c58419466ceaeef7f632653266d0e1236431a950cfe52a\n"
     ]
    },
    {
     "ename": "NameError",
     "evalue": "name 'k_inverse' is not defined",
     "output_type": "error",
     "traceback": [
      "\u001b[0;31m---------------------------------------------------------------------------\u001b[0m",
      "\u001b[0;31mNameError\u001b[0m                                 Traceback (most recent call last)",
      "\u001b[0;32m<ipython-input-18-7a65c0b0ad39>\u001b[0m in \u001b[0;36m<module>\u001b[0;34m\u001b[0m\n\u001b[1;32m     70\u001b[0m         \u001b[0;32melse\u001b[0m\u001b[0;34m:\u001b[0m\u001b[0;34m\u001b[0m\u001b[0;34m\u001b[0m\u001b[0m\n\u001b[1;32m     71\u001b[0m             \u001b[0mprint\u001b[0m\u001b[0;34m(\u001b[0m\u001b[0;34m\"Verification failed.\"\u001b[0m\u001b[0;34m)\u001b[0m\u001b[0;34m\u001b[0m\u001b[0;34m\u001b[0m\u001b[0m\n\u001b[0;32m---> 72\u001b[0;31m \u001b[0mr\u001b[0m\u001b[0;34m,\u001b[0m \u001b[0ms\u001b[0m\u001b[0;34m,\u001b[0m \u001b[0mn_order\u001b[0m\u001b[0;34m,\u001b[0m \u001b[0mqA\u001b[0m\u001b[0;34m,\u001b[0m \u001b[0mz_msg\u001b[0m \u001b[0;34m=\u001b[0m \u001b[0msigning\u001b[0m\u001b[0;34m(\u001b[0m\u001b[0;34m)\u001b[0m\u001b[0;34m\u001b[0m\u001b[0;34m\u001b[0m\u001b[0m\n\u001b[0m\u001b[1;32m     73\u001b[0m \u001b[0mverification\u001b[0m\u001b[0;34m(\u001b[0m\u001b[0mr\u001b[0m\u001b[0;34m,\u001b[0m \u001b[0ms\u001b[0m\u001b[0;34m,\u001b[0m \u001b[0mn_order\u001b[0m\u001b[0;34m,\u001b[0m \u001b[0mqA\u001b[0m\u001b[0;34m,\u001b[0m \u001b[0mz_msg\u001b[0m\u001b[0;34m)\u001b[0m\u001b[0;34m\u001b[0m\u001b[0;34m\u001b[0m\u001b[0m\n",
      "\u001b[0;32m<ipython-input-18-7a65c0b0ad39>\u001b[0m in \u001b[0;36msigning\u001b[0;34m()\u001b[0m\n\u001b[1;32m     51\u001b[0m     \u001b[0mprint\u001b[0m\u001b[0;34m(\u001b[0m\u001b[0;34m\"x = {}\\ny = {}\"\u001b[0m\u001b[0;34m.\u001b[0m\u001b[0mformat\u001b[0m\u001b[0;34m(\u001b[0m\u001b[0mhex\u001b[0m\u001b[0;34m(\u001b[0m\u001b[0mx\u001b[0m\u001b[0;34m)\u001b[0m\u001b[0;34m,\u001b[0m \u001b[0mhex\u001b[0m\u001b[0;34m(\u001b[0m\u001b[0my\u001b[0m\u001b[0;34m)\u001b[0m\u001b[0;34m)\u001b[0m\u001b[0;34m)\u001b[0m\u001b[0;34m\u001b[0m\u001b[0;34m\u001b[0m\u001b[0m\n\u001b[1;32m     52\u001b[0m     \u001b[0mr\u001b[0m \u001b[0;34m=\u001b[0m \u001b[0mx\u001b[0m \u001b[0;34m%\u001b[0m \u001b[0mn\u001b[0m\u001b[0;34m\u001b[0m\u001b[0;34m\u001b[0m\u001b[0m\n\u001b[0;32m---> 53\u001b[0;31m     \u001b[0ms\u001b[0m \u001b[0;34m=\u001b[0m \u001b[0;34m(\u001b[0m\u001b[0mk_inverse\u001b[0m \u001b[0;34m*\u001b[0m \u001b[0;34m(\u001b[0m\u001b[0mz\u001b[0m \u001b[0;34m+\u001b[0m \u001b[0mr\u001b[0m \u001b[0;34m*\u001b[0m \u001b[0mda\u001b[0m\u001b[0;34m)\u001b[0m\u001b[0;34m)\u001b[0m \u001b[0;34m%\u001b[0m \u001b[0mn\u001b[0m\u001b[0;34m\u001b[0m\u001b[0;34m\u001b[0m\u001b[0m\n\u001b[0m\u001b[1;32m     54\u001b[0m     \u001b[0mprint\u001b[0m\u001b[0;34m(\u001b[0m\u001b[0;34m\"Signature pair:\\nr = {}\\ns = {}\"\u001b[0m\u001b[0;34m.\u001b[0m\u001b[0mformat\u001b[0m\u001b[0;34m(\u001b[0m\u001b[0mhex\u001b[0m\u001b[0;34m(\u001b[0m\u001b[0mr\u001b[0m\u001b[0;34m)\u001b[0m\u001b[0;34m,\u001b[0m \u001b[0mhex\u001b[0m\u001b[0;34m(\u001b[0m\u001b[0ms\u001b[0m\u001b[0;34m)\u001b[0m\u001b[0;34m)\u001b[0m\u001b[0;34m)\u001b[0m\u001b[0;34m\u001b[0m\u001b[0;34m\u001b[0m\u001b[0m\n\u001b[1;32m     55\u001b[0m     \u001b[0;32mreturn\u001b[0m \u001b[0mr\u001b[0m\u001b[0;34m,\u001b[0m \u001b[0ms\u001b[0m\u001b[0;34m,\u001b[0m \u001b[0mn\u001b[0m\u001b[0;34m,\u001b[0m \u001b[0mqa\u001b[0m\u001b[0;34m,\u001b[0m \u001b[0mz\u001b[0m\u001b[0;34m\u001b[0m\u001b[0;34m\u001b[0m\u001b[0m\n",
      "\u001b[0;31mNameError\u001b[0m: name 'k_inverse' is not defined"
     ]
    }
   ],
   "source": [
    "def exgcd(a, b, x, y):\n",
    "    if a == 0:\n",
    "        x = 0\n",
    "        y = 1\n",
    "        return x, y, b\n",
    "    x1 = 0\n",
    "    y1 = 0\n",
    "    x1, y1, gcd = exgcd(b % a, a, x1, y1)\n",
    "    x = y1 - (b // a) * x1\n",
    "    y = x1\n",
    "\n",
    "    return x, y, gcd\n",
    "def modinv(a, m):\n",
    "    x, y, gcd = exgcd(a, m, 0, 0)\n",
    "    assert gcd == 1, 'Modular inverse does not exist'\n",
    "    return (x % m + m) % m\n",
    "def modInverse(a, m) : \n",
    "    m0 = m \n",
    "    y = 0\n",
    "    x = 1\n",
    "    if (m == 1) : \n",
    "        return 0\n",
    "    while (a > 1) : \n",
    "        # q is quotient \n",
    "        q = a // m \n",
    "        t = m \n",
    "        # m is remainder now, process \n",
    "        # same as Euclid's algo \n",
    "        m = a % m \n",
    "        a = t \n",
    "        t = y \n",
    "        # Update x and y \n",
    "        y = x - q * y \n",
    "        x = t \n",
    "    # Make x positive \n",
    "    if (x < 0) : \n",
    "        x = x + m0 \n",
    "    return x \n",
    "\n",
    "def signing():\n",
    "    da = myStuId\n",
    "    qa = da * g\n",
    "    n = g.order()\n",
    "    z = 0x5c77b910317158b406cbfd43f7585f553b24f5967dcb78d9edc02a58007e9218\n",
    "    print(\"Hashed: \", hex(z))\n",
    "    # k and n should be coprimes\n",
    "    k = 2\n",
    "    k_inverse = modInverse(k, n)\n",
    "#     k_inverse = modinv(k, n)\n",
    "    x, y = k * g\n",
    "    print(\"x = {}\\ny = {}\".format(hex(x), hex(y)))\n",
    "    r = x % n\n",
    "    s = (k_inverse * (z + r * da)) % n\n",
    "    print(\"Signature pair:\\nr = {}\\ns = {}\".format(hex(r), hex(s)))\n",
    "    return r, s, n, qa, z\n",
    "def verification(r, s, n, qa, z):\n",
    "    if r < 1 or r > n_order:\n",
    "         print('verification failed, out of range.')\n",
    "         exit(1)\n",
    "    elif s < 1 or s > n_order:\n",
    "         print('verification failed, out of range.')\n",
    "         exit(1)\n",
    "    else:\n",
    "        w = modInverse(s, n)%n\n",
    "        u1 = z * w % n\n",
    "        u2 = r * w % n\n",
    "        x1, y1 = u1 * g + u2 * qa\n",
    "        if x1 % n == r:\n",
    "            print(\"Verification succeeded.\")\n",
    "        else:\n",
    "            print(\"Verification failed.\")\n",
    "r, s, n_order, qA, z_msg = signing()\n",
    "verification(r, s, n_order, qA, z_msg)"
   ]
  },
  {
   "cell_type": "code",
   "execution_count": null,
   "metadata": {},
   "outputs": [],
   "source": []
  }
 ],
 "metadata": {
  "kernelspec": {
   "display_name": "Python 3",
   "language": "python",
   "name": "python3"
  },
  "language_info": {
   "codemirror_mode": {
    "name": "ipython",
    "version": 3
   },
   "file_extension": ".py",
   "mimetype": "text/x-python",
   "name": "python",
   "nbconvert_exporter": "python",
   "pygments_lexer": "ipython3",
   "version": "3.6.7"
  }
 },
 "nbformat": 4,
 "nbformat_minor": 2
}
